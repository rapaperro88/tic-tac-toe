{
 "cells": [
  {
   "cell_type": "markdown",
   "metadata": {},
   "source": [
    "# Le Morpion"
   ]
  },
  {
   "cell_type": "code",
   "execution_count": 1,
   "metadata": {},
   "outputs": [],
   "source": [
    "import numpy as np\n",
    "from random import randint\n",
    "# Fonctions à utiliser : arrays (numpy, loc[], ) ; input () ; listes ?"
   ]
  },
  {
   "cell_type": "markdown",
   "metadata": {},
   "source": [
    "## Algorithme"
   ]
  },
  {
   "cell_type": "markdown",
   "metadata": {},
   "source": [
    "while cases vides :\n",
    "\n",
    "    while not 3 items alignés:\n",
    "\n",
    "        # tour user\n",
    "        input joueur\n",
    "\n",
    "        # tour machine            \n",
    "        if 2 items alignés: # stratégie_1 : remplir pour gagner ou empêcher de gagner\n",
    "            remplir le 3\n",
    "            print(\"machine gagne\")\n",
    "        else:\n",
    "            remplir un au hasard # *TODO* strategie_2 : remplir pour mettre en échec le *user*\n",
    "\n",
    "    print(\"user gagne\")"
   ]
  },
  {
   "cell_type": "markdown",
   "metadata": {},
   "source": [
    "## Avec numpy array\n",
    "\n",
    "* np.array initial rempli de 0\n",
    "* joueur 1 rempli avec 1\n",
    "* joeur 2 rempli avec 2"
   ]
  },
  {
   "cell_type": "raw",
   "metadata": {},
   "source": [
    "board = np.zeros(shape=[3, 3])\n",
    "\n",
    "def remplire_vide (tableau, taille_grille, remplir_avec):\n",
    "    x = randint(0,taille_grille-1)\n",
    "    y = randint(0,taille_grille-1)\n",
    "    while tableau[x,y] != 0:\n",
    "        x = randint(0,taille_grille-1)\n",
    "        y = randint(0,taille_grille-1)\n",
    "    tableau[x,y] = remplir_avec\n",
    "    return tableau\n",
    "\n",
    "while np.min(board) != 1:\n",
    "    # joueur remplit case vide au hasard avec 1\n",
    "    board = remplire_vide (board, 3, 1)\n",
    "    print(board)\n",
    "    if np.min(board) != 1:\n",
    "        # joueur remplit case vide au hasard avec 2\n",
    "    board = remplire_vide (board, 3, 2)\n",
    "    print(board)    "
   ]
  },
  {
   "cell_type": "markdown",
   "metadata": {},
   "source": [
    "## Avec liste\n"
   ]
  },
  {
   "cell_type": "code",
   "execution_count": 2,
   "metadata": {},
   "outputs": [],
   "source": [
    "# Print liste :\n",
    "def print_list(l):\n",
    "    for i in range(3):\n",
    "        print('[%s]' % ' '.join(map(str, l[3*i:(i+1)*3])))\n",
    "    print()"
   ]
  },
  {
   "cell_type": "code",
   "execution_count": 3,
   "metadata": {},
   "outputs": [],
   "source": [
    "# Jouer :\n",
    "def cocher_case_vide(board, symbole):\n",
    "    idx = randint(0,8)\n",
    "    while board[idx] != \".\":\n",
    "        idx = randint(0,8)\n",
    "    board[idx] = symbole\n",
    "    return board"
   ]
  },
  {
   "cell_type": "code",
   "execution_count": 4,
   "metadata": {},
   "outputs": [],
   "source": [
    "# Vérifier s'il y a un gagnant :\n",
    "def check_winner(l, symbol):\n",
    "    if l[0] == symbol and l[3] == symbol and l[6] == symbol \\\n",
    "    or l[1] == symbol and l[4] == symbol and l[7] == symbol \\\n",
    "    or l[2] == symbol and l[5] == symbol and l[8] == symbol \\\n",
    "    or l[0] == symbol and l[1] == symbol and l[2] == symbol \\\n",
    "    or l[3] == symbol and l[4] == symbol and l[5] == symbol \\\n",
    "    or l[6] == symbol and l[7] == symbol and l[8] == symbol \\\n",
    "    or l[0] == symbol and l[4] == symbol and l[8] == symbol \\\n",
    "    or l[6] == symbol and l[4] == symbol and l[2] == symbol :\n",
    "        return True\n",
    "    else: return False"
   ]
  },
  {
   "cell_type": "code",
   "execution_count": 5,
   "metadata": {},
   "outputs": [
    {
     "name": "stdout",
     "output_type": "stream",
     "text": [
      "[O . .]\n",
      "[. . X]\n",
      "[. . .]\n",
      "\n",
      "[O . .]\n",
      "[O . X]\n",
      "[X . .]\n",
      "\n",
      "[O . .]\n",
      "[O X X]\n",
      "[X O .]\n",
      "\n",
      "[O O .]\n",
      "[O X X]\n",
      "[X O X]\n",
      "\n",
      "X gagne !\n",
      "[O O X]\n",
      "[O X X]\n",
      "[X O X]\n",
      "\n"
     ]
    }
   ],
   "source": [
    "# It's time to du-du-du-du-DUEL !\n",
    "\n",
    "board = [\".\"]*9\n",
    "\n",
    "while \".\" in board :\n",
    "    \n",
    "    # Joueur 1\n",
    "    board = cocher_case_vide(board, \"X\")\n",
    "    if check_winner(board, \"X\") : \n",
    "        print(\"X gagne !\")\n",
    "        print_list(board)\n",
    "        break\n",
    "        \n",
    "    # Joueur 2   \n",
    "    if \".\" in board :\n",
    "        board = cocher_case_vide(board, \"O\")\n",
    "        if check_winner(board, \"O\") : \n",
    "            print(\"O gagne !\")\n",
    "            print_list(board)\n",
    "            break\n",
    "    print_list(board)\n",
    "    \n",
    "\n",
    "if check_winner(board, \"O\") == False and check_winner(board, \"X\") == False : \n",
    "    print(\"Match nul\")"
   ]
  },
  {
   "cell_type": "code",
   "execution_count": 6,
   "metadata": {},
   "outputs": [
    {
     "data": {
      "text/plain": [
       "True"
      ]
     },
     "execution_count": 6,
     "metadata": {},
     "output_type": "execute_result"
    }
   ],
   "source": [
    "# L'atelier\n",
    "\n",
    "# board = [\".\"]*9\n",
    "# board = [1,2,3,4,5,6,7,8,9]\n",
    "l = [\"X\",\"Xd\",\"X\",\"VX\",\"X\",\"X\",\"VX\",\"VX\",\"VX\"]\n",
    "check_winner(board, \"X\")\n",
    "# print_list(l)\n"
   ]
  },
  {
   "cell_type": "code",
   "execution_count": null,
   "metadata": {},
   "outputs": [],
   "source": []
  },
  {
   "cell_type": "code",
   "execution_count": null,
   "metadata": {},
   "outputs": [],
   "source": []
  },
  {
   "cell_type": "code",
   "execution_count": null,
   "metadata": {},
   "outputs": [],
   "source": []
  }
 ],
 "metadata": {
  "kernelspec": {
   "display_name": "Python 3",
   "language": "python",
   "name": "python3"
  },
  "language_info": {
   "codemirror_mode": {
    "name": "ipython",
    "version": 3
   },
   "file_extension": ".py",
   "mimetype": "text/x-python",
   "name": "python",
   "nbconvert_exporter": "python",
   "pygments_lexer": "ipython3",
   "version": "3.7.6"
  }
 },
 "nbformat": 4,
 "nbformat_minor": 4
}
